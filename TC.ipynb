{
  "nbformat": 4,
  "nbformat_minor": 0,
  "metadata": {
    "colab": {
      "name": "TC.ipynb",
      "provenance": [],
      "collapsed_sections": [],
      "authorship_tag": "ABX9TyPqjoSyHZd//6R1hTLoDHUI",
      "include_colab_link": true
    },
    "kernelspec": {
      "name": "python3",
      "display_name": "Python 3"
    }
  },
  "cells": [
    {
      "cell_type": "markdown",
      "metadata": {
        "id": "view-in-github",
        "colab_type": "text"
      },
      "source": [
        "<a href=\"https://colab.research.google.com/github/jmcgunn/Kalman-and-Bayesian-Filters-in-Python/blob/master/TC.ipynb\" target=\"_parent\"><img src=\"https://colab.research.google.com/assets/colab-badge.svg\" alt=\"Open In Colab\"/></a>"
      ]
    },
    {
      "cell_type": "code",
      "metadata": {
        "id": "Cb7WvMKI7Shv",
        "colab_type": "code",
        "colab": {}
      },
      "source": [
        ""
      ],
      "execution_count": 0,
      "outputs": []
    },
    {
      "cell_type": "markdown",
      "metadata": {
        "id": "k0sv7RHLAFll",
        "colab_type": "text"
      },
      "source": [
        "Problem Statement"
      ]
    },
    {
      "cell_type": "markdown",
      "metadata": {
        "id": "kd_y_0YzAJVs",
        "colab_type": "text"
      },
      "source": [
        "T(F) = T(C) * 9/5 + 32"
      ]
    },
    {
      "cell_type": "code",
      "metadata": {
        "id": "J21eUYZFAQPm",
        "colab_type": "code",
        "colab": {}
      },
      "source": [
        ""
      ],
      "execution_count": 0,
      "outputs": []
    }
  ]
}